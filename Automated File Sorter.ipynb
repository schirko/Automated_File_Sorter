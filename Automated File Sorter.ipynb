{
 "cells": [
  {
   "cell_type": "code",
   "execution_count": 1,
   "id": "ee376151",
   "metadata": {},
   "outputs": [],
   "source": [
    "import os,shutil"
   ]
  },
  {
   "cell_type": "code",
   "execution_count": 85,
   "id": "ab3d2255",
   "metadata": {},
   "outputs": [],
   "source": [
    "curr_dir = os.getcwd()\n",
    "curr_dir = os.path.join(curr_dir, '')"
   ]
  },
  {
   "cell_type": "code",
   "execution_count": 103,
   "id": "3b197d72",
   "metadata": {},
   "outputs": [
    {
     "name": "stdout",
     "output_type": "stream",
     "text": [
      "csv files\n",
      "image files\n",
      "text files\n"
     ]
    }
   ],
   "source": [
    "new_directories = ('csv files', 'image files', 'text files') \n",
    "file_names = os.listdir(curr_dir)\n",
    "\n",
    "# Loop through the list of provided directories\n",
    "for directory in new_directories:    \n",
    "\n",
    "    # Check to see if a subdirectory exist for each one in the list, if not create it\n",
    "    if not os.path.exists(curr_dir + directory):\n",
    "        os.makedirs(curr_dir + directory)\n",
    "\n",
    "# Check each file for it's file type and place it in the appropriate subdirectory        \n",
    "for file in file_names:\n",
    "    if \".csv\" in file and not os. path.exists(curr_dir + \"csv files/\" + file):\n",
    "        shutil.move(curr_dir + file, curr_dir + \"csv files/\" + file)\n",
    "    elif \".jpg\" in file and not os. path.exists(curr_dir + \"image files/\" + file):\n",
    "        shutil.move(curr_dir + file, curr_dir + \"image files/\" + file)\n",
    "    elif \".txt\" in file and not os. path.exists(curr_dir + \"text files/\" + file):\n",
    "        shutil.move(curr_dir + file, curr_dir + \"text files/\" + file)        "
   ]
  },
  {
   "cell_type": "code",
   "execution_count": 107,
   "id": "ea0b2123",
   "metadata": {},
   "outputs": [],
   "source": []
  },
  {
   "cell_type": "code",
   "execution_count": null,
   "id": "8f5bd396",
   "metadata": {},
   "outputs": [],
   "source": []
  },
  {
   "cell_type": "code",
   "execution_count": null,
   "id": "968de85c",
   "metadata": {},
   "outputs": [],
   "source": []
  },
  {
   "cell_type": "code",
   "execution_count": null,
   "id": "42d7020f",
   "metadata": {},
   "outputs": [],
   "source": []
  }
 ],
 "metadata": {
  "kernelspec": {
   "display_name": "Python 3 (ipykernel)",
   "language": "python",
   "name": "python3"
  },
  "language_info": {
   "codemirror_mode": {
    "name": "ipython",
    "version": 3
   },
   "file_extension": ".py",
   "mimetype": "text/x-python",
   "name": "python",
   "nbconvert_exporter": "python",
   "pygments_lexer": "ipython3",
   "version": "3.9.13"
  }
 },
 "nbformat": 4,
 "nbformat_minor": 5
}
